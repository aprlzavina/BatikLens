{
  "nbformat": 4,
  "nbformat_minor": 0,
  "metadata": {
    "colab": {
      "provenance": []
    },
    "kernelspec": {
      "name": "python3",
      "display_name": "Python 3"
    },
    "language_info": {
      "name": "python"
    }
  },
  "cells": [
    {
      "cell_type": "markdown",
      "source": [
        "# **Import required modules**\n",
        "\n",
        "---\n",
        "\n"
      ],
      "metadata": {
        "id": "2NhKCQSSwFlR"
      }
    },
    {
      "cell_type": "code",
      "execution_count": null,
      "metadata": {
        "id": "1QjIC0i3vv6I"
      },
      "outputs": [],
      "source": [
        "import os\n",
        "import shutil\n",
        "from sklearn.model_selection import train_test_split"
      ]
    },
    {
      "cell_type": "markdown",
      "source": [
        "# **Connect with Drive**\n",
        "\n",
        "---\n",
        "\n"
      ],
      "metadata": {
        "id": "0dwbNZzxyPCj"
      }
    },
    {
      "cell_type": "code",
      "source": [
        "from google.colab import drive\n",
        "drive.mount('/content/drive')"
      ],
      "metadata": {
        "id": "PtEw-uBZyPZ9",
        "colab": {
          "base_uri": "https://localhost:8080/"
        },
        "outputId": "85e63c38-3a48-4df8-a7a1-42daed63cb21"
      },
      "execution_count": null,
      "outputs": [
        {
          "output_type": "stream",
          "name": "stdout",
          "text": [
            "Drive already mounted at /content/drive; to attempt to forcibly remount, call drive.mount(\"/content/drive\", force_remount=True).\n"
          ]
        }
      ]
    },
    {
      "cell_type": "markdown",
      "source": [
        "# **Open Zip File**\n",
        "\n",
        "---\n"
      ],
      "metadata": {
        "id": "1oorBCQzzZE4"
      }
    },
    {
      "cell_type": "code",
      "source": [
        "import zipfile\n",
        "import os\n",
        "\n",
        "# Path ke file zip\n",
        "zip_path = '/content/drive/MyDrive/dataset/motif-batik.zip'\n",
        "# Path tujuan untuk ekstraksi\n",
        "#extract_path = '/content/drive/MyDrive/datasets/dataset-motif-batik'\n",
        "extract_path = '/content/drive/MyDrive/dataset'\n",
        "\n",
        "# Ekstraksi file zip\n",
        "with zipfile.ZipFile(zip_path, 'r') as zip_ref:\n",
        "    zip_ref.extractall(extract_path)\n"
      ],
      "metadata": {
        "id": "mes8u4TTzZYe"
      },
      "execution_count": null,
      "outputs": []
    },
    {
      "cell_type": "markdown",
      "source": [
        "# **Create the destination Train, Test and Validation folder**\n",
        "\n",
        "---\n"
      ],
      "metadata": {
        "id": "NpmsblMKwNXq"
      }
    },
    {
      "cell_type": "code",
      "source": [
        "import os\n",
        "import shutil\n",
        "from sklearn.model_selection import train_test_split\n",
        "\n",
        "def split_dataset(folder_path, train_ratio=0.8, val_ratio=0.1, test_ratio=0.1):\n",
        "    # Pastikan total rasio adalah 1.0\n",
        "    assert train_ratio + val_ratio + test_ratio == 1.0, \"Total ratio must be 1.0\"\n",
        "\n",
        "    # Membuat folder untuk train, validation, dan test jika belum ada\n",
        "    train_dir = os.path.join(folder_path, 'train')\n",
        "    val_dir = os.path.join(folder_path, 'val')\n",
        "    test_dir = os.path.join(folder_path, 'test')\n",
        "\n",
        "    os.makedirs(train_dir, exist_ok=True)\n",
        "    os.makedirs(val_dir, exist_ok=True)\n",
        "    os.makedirs(test_dir, exist_ok=True)\n",
        "\n",
        "    # Daftar sub-folder (motif batik)\n",
        "    sub_folders = [f for f in os.listdir(folder_path) if os.path.isdir(os.path.join(folder_path, f))]\n",
        "\n",
        "    for sub_folder in sub_folders:\n",
        "        # Abaikan folder train, val, dan test yang baru dibuat\n",
        "        if sub_folder in ['train', 'val', 'test']:\n",
        "            continue\n",
        "\n",
        "        # Buat path untuk masing-masing sub-folder\n",
        "        sub_folder_path = os.path.join(folder_path, sub_folder)\n",
        "\n",
        "        # Ambil semua file dalam sub-folder\n",
        "        files = os.listdir(sub_folder_path)\n",
        "\n",
        "        # Split dataset menjadi train, val, dan test\n",
        "        train_files, test_files = train_test_split(files, test_size=(val_ratio + test_ratio))\n",
        "        val_files, test_files = train_test_split(test_files, test_size=(test_ratio / (val_ratio + test_ratio)))\n",
        "\n",
        "        # Fungsi untuk memindahkan file ke folder target\n",
        "        def move_files(file_list, target_dir):\n",
        "            target_sub_dir = os.path.join(target_dir, sub_folder)\n",
        "            os.makedirs(target_sub_dir, exist_ok=True)\n",
        "            for file_name in file_list:\n",
        "                shutil.move(os.path.join(sub_folder_path, file_name), os.path.join(target_sub_dir, file_name))\n",
        "\n",
        "        # Pindahkan file ke masing-masing folder\n",
        "        move_files(train_files, train_dir)\n",
        "        move_files(val_files, val_dir)\n",
        "        move_files(test_files, test_dir)\n",
        "\n",
        "    print(\"Dataset split completed!\")\n",
        "\n",
        "# Mount Google Drive\n",
        "from google.colab import drive\n",
        "drive.mount('/content/drive')\n",
        "\n",
        "# Path ke folder batik\n",
        "folder_path = '/content/drive/MyDrive/dataset/motif-batik'\n",
        "\n",
        "# Split dataset\n",
        "split_dataset(folder_path)\n"
      ],
      "metadata": {
        "id": "mIunCZ79wcCV",
        "colab": {
          "base_uri": "https://localhost:8080/"
        },
        "outputId": "6606ac1c-fcf1-4d8e-8f73-4cc1f47c02e6"
      },
      "execution_count": null,
      "outputs": [
        {
          "output_type": "stream",
          "name": "stdout",
          "text": [
            "Drive already mounted at /content/drive; to attempt to forcibly remount, call drive.mount(\"/content/drive\", force_remount=True).\n",
            "Dataset split completed!\n"
          ]
        }
      ]
    },
    {
      "cell_type": "markdown",
      "source": [
        "# **Number of images**\n",
        "\n",
        "---\n",
        "\n"
      ],
      "metadata": {
        "id": "fZqLidJ46y9D"
      }
    },
    {
      "cell_type": "code",
      "source": [
        "#now return the list of the content in that training_set folder\n",
        "os.listdir('/content/drive/MyDrive/dataset/motif-batik')\n",
        "\n",
        "#number of images of each classes in the training_set folder\n",
        "print(f\"There are {len(os.listdir('/content/drive/MyDrive/dataset/motif-batik/train/Megamendung'))} train set images of Motif Batik Megamendung.\")\n",
        "print(f\"There are {len(os.listdir('/content/drive/MyDrive/dataset/motif-batik/train/Tambal'))} train set images of Motif Batik Tambal.\")\n",
        "print(f\"There are {len(os.listdir('/content/drive/MyDrive/dataset/motif-batik/train/Tugu Muda'))} train set images of Motif Batik Tugu Muda.\")\n",
        "print(f\"There are {len(os.listdir('/content/drive/MyDrive/dataset/motif-batik/train/Kawung'))} train set images of Motif Batik Kawung.\")\n",
        "print(f\"There are {len(os.listdir('/content/drive/MyDrive/dataset/motif-batik/train/Parang'))} train set images of Motif Batik Parang.\")\n",
        "print(f\"There are {len(os.listdir('/content/drive/MyDrive/dataset/motif-batik/train/Jlamprang'))} train set images of Motif Batik Jlamprang.\")\n",
        "print(f\"There are {len(os.listdir('/content/drive/MyDrive/dataset/motif-batik/train/Betawi'))} train set images of Motif Batik Betawi.\")\n",
        "print(f\"There are {len(os.listdir('/content/drive/MyDrive/dataset/motif-batik/train/Cendrawasih'))} train set images of Motif Cendrawasih.\")\n",
        "print(f\"There are {len(os.listdir('/content/drive/MyDrive/dataset/motif-batik/train/Dayak'))} train set images of Motif Batik Dayak.\")\n",
        "print(f\"There are {len(os.listdir('/content/drive/MyDrive/dataset/motif-batik/train/Sidoluhur'))} train set images of Motif Batik Sidoluhur.\")\n",
        "\n",
        "\n",
        "print()\n",
        "\n",
        "#now return the list of the content in that validation_set folder\n",
        "print(f\"There are {len(os.listdir('/content/drive/MyDrive/dataset/motif-batik/val/Megamendung'))} validation set images of Motif Batik Megamendung.\")\n",
        "print(f\"There are {len(os.listdir('/content/drive/MyDrive/dataset/motif-batik/val/Tambal'))} validation set images of Motif Batik Tambal.\")\n",
        "print(f\"There are {len(os.listdir('/content/drive/MyDrive/dataset/motif-batik/val/Tugu Muda'))} validation set images of Motif Batik Tugu Muda.\")\n",
        "print(f\"There are {len(os.listdir('/content/drive/MyDrive/dataset/motif-batik/val/Kawung'))} validation set images of Motif Batik Kawung.\")\n",
        "print(f\"There are {len(os.listdir('/content/drive/MyDrive/dataset/motif-batik/val/Parang'))} validation set images of Motif Batik Parang.\")\n",
        "print(f\"There are {len(os.listdir('/content/drive/MyDrive/dataset/motif-batik/val/Jlamprang'))} validation set images of Motif Batik Jlamprang.\")\n",
        "print(f\"There are {len(os.listdir('/content/drive/MyDrive/dataset/motif-batik/val/Betawi'))} validation set images of Motif Batik Betawi.\")\n",
        "print(f\"There are {len(os.listdir('/content/drive/MyDrive/dataset/motif-batik/val/Cendrawasih'))} validation set images of Motif Cendrawasih.\")\n",
        "print(f\"There are {len(os.listdir('/content/drive/MyDrive/dataset/motif-batik/val/Dayak'))} validation set images of Motif Batik Dayak.\")\n",
        "print(f\"There are {len(os.listdir('/content/drive/MyDrive/dataset/motif-batik/val/Sidoluhur'))} validation set images of Motif Batik Sidoluhur.\")\n",
        "print()\n",
        "\n",
        "#now return the list of the content in that testing_set folder\n",
        "print(f\"There are {len(os.listdir('/content/drive/MyDrive/dataset/motif-batik/test/Megamendung'))} testing set images of Motif Batik Megamendung.\")\n",
        "print(f\"There are {len(os.listdir('/content/drive/MyDrive/dataset/motif-batik/test/Tambal'))} testing set images of Motif Batik Tambal.\")\n",
        "print(f\"There are {len(os.listdir('/content/drive/MyDrive/dataset/motif-batik/test/Tugu Muda'))} testing set images of Motif Batik Tugu Muda.\")\n",
        "print(f\"There are {len(os.listdir('/content/drive/MyDrive/dataset/motif-batik/test/Kawung'))} testing set images of Motif Batik Kawung.\")\n",
        "print(f\"There are {len(os.listdir('/content/drive/MyDrive/dataset/motif-batik/test/Parang'))} testing set images of Motif Batik Parang.\")\n",
        "print(f\"There are {len(os.listdir('/content/drive/MyDrive/dataset/motif-batik/test/Jlamprang'))} testing set images of Motif Batik Jlamprang.\")\n",
        "print(f\"There are {len(os.listdir('/content/drive/MyDrive/dataset/motif-batik/test/Betawi'))} testing set images of Motif Batik Betawi.\")\n",
        "print(f\"There are {len(os.listdir('/content/drive/MyDrive/dataset/motif-batik/test/Cendrawasih'))} testing set images of Motif Cendrawasih.\")\n",
        "print(f\"There are {len(os.listdir('/content/drive/MyDrive/dataset/motif-batik/test/Dayak'))} testing set images of Motif Batik Dayak.\")\n",
        "print(f\"There are {len(os.listdir('/content/drive/MyDrive/dataset/motif-batik/test/Sidoluhur'))} testing set images of Motif Batik Sidoluhur.\")\n",
        "print()"
      ],
      "metadata": {
        "id": "TJrEjubC6zXg",
        "colab": {
          "base_uri": "https://localhost:8080/"
        },
        "outputId": "98c463d6-ce43-46c3-929b-358471800e95"
      },
      "execution_count": null,
      "outputs": [
        {
          "output_type": "stream",
          "name": "stdout",
          "text": [
            "There are 284 train set images of Motif Batik Megamendung.\n",
            "There are 100 train set images of Motif Batik Tambal.\n",
            "There are 80 train set images of Motif Batik Tugu Muda.\n",
            "There are 348 train set images of Motif Batik Kawung.\n",
            "There are 358 train set images of Motif Batik Parang.\n",
            "There are 83 train set images of Motif Batik Jlamprang.\n",
            "There are 164 train set images of Motif Batik Betawi.\n",
            "There are 73 train set images of Motif Cendrawasih.\n",
            "There are 84 train set images of Motif Batik Dayak.\n",
            "There are 73 train set images of Motif Batik Sidoluhur.\n",
            "\n",
            "There are 80 validation set images of Motif Batik Megamendung.\n",
            "There are 28 validation set images of Motif Batik Tambal.\n",
            "There are 23 validation set images of Motif Batik Tugu Muda.\n",
            "There are 92 validation set images of Motif Batik Kawung.\n",
            "There are 99 validation set images of Motif Batik Parang.\n",
            "There are 23 validation set images of Motif Batik Jlamprang.\n",
            "There are 45 validation set images of Motif Batik Betawi.\n",
            "There are 19 validation set images of Motif Cendrawasih.\n",
            "There are 23 validation set images of Motif Batik Dayak.\n",
            "There are 20 validation set images of Motif Batik Sidoluhur.\n",
            "\n",
            "There are 81 testing set images of Motif Batik Megamendung.\n",
            "There are 27 testing set images of Motif Batik Tambal.\n",
            "There are 22 testing set images of Motif Batik Tugu Muda.\n",
            "There are 92 testing set images of Motif Batik Kawung.\n",
            "There are 102 testing set images of Motif Batik Parang.\n",
            "There are 24 testing set images of Motif Batik Jlamprang.\n",
            "There are 47 testing set images of Motif Batik Betawi.\n",
            "There are 23 testing set images of Motif Cendrawasih.\n",
            "There are 26 testing set images of Motif Batik Dayak.\n",
            "There are 22 testing set images of Motif Batik Sidoluhur.\n",
            "\n"
          ]
        }
      ]
    }
  ]
}